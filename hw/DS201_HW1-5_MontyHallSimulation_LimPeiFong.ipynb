{
 "cells": [
  {
   "cell_type": "code",
   "execution_count": null,
   "metadata": {},
   "outputs": [],
   "source": [
    "import random\n",
    "n=10\n",
    "doors=[]\n",
    "for i in range(n):\n",
    "    ran = random.choice(\"012\")\n",
    "    #print(ran)\n",
    "    if ran == \"0\":\n",
    "        doors.append([\"X\",\"O\",\"O\"])\n",
    "    elif ran == \"1\":\n",
    "        doors.append([\"O\",\"X\",\"O\"])\n",
    "    else:\n",
    "        doors.append([\"O\",\"O\",\"X\"])\n",
    "#print(\"no. of doors: \",n)\n",
    "#print(doors)"
   ]
  },
  {
   "cell_type": "code",
   "execution_count": null,
   "metadata": {},
   "outputs": [],
   "source": [
    "def chance_to_win(list):\n",
    "    sum0 = 0\n",
    "    sum1 = 0\n",
    "    sum2 = 0\n",
    "    for i in range(len(list)):\n",
    "        for j in range(3):\n",
    "            if j== 0 and list[i][j]==\"X\":\n",
    "                sum0 += 1\n",
    "            elif j==1 and list[i][j]==\"X\":\n",
    "                sum1 += 1\n",
    "            elif j==2 and list[i][j]==\"X\": \n",
    "                sum2 += 1\n",
    "    total = sum0 + sum1 + sum2\n",
    "    print(\"Prob of first door: \",sum0/total)\n",
    "    print(\"Prob of second door: \",sum1/total)\n",
    "    print(\"Prob of third door: \",sum2/total)"
   ]
  },
  {
   "cell_type": "code",
   "execution_count": null,
   "metadata": {},
   "outputs": [],
   "source": [
    "def chance_to_win_if_stay(list):\n",
    "    sum0 = 0\n",
    "    sum1 = 0\n",
    "    sum2 = 0\n",
    "    for i in range(len(list)):\n",
    "        win = 0\n",
    "        for j in range(3):\n",
    "            if j== 0 and list[i][j]==\"X\":\n",
    "                sum0 += 1\n",
    "                win += 1\n",
    "                chosen_door =1\n",
    "            elif j==1 and list[i][j]==\"X\":\n",
    "                sum1 += 1\n",
    "                chosen_door =2\n",
    "            elif j==2 and list[i][j]==\"X\": \n",
    "                sum2 += 1\n",
    "                chosen_door =2\n",
    "        print(\"Game no. : \",i, \"Door no. : \",chosen_door, \"wins?\", win)\n",
    "    total = sum0 + sum1 + sum2\n",
    "    print(\"Prob of winning if stay: \", sum0/total)\n",
    "    #print(\"Prob of first door: \",sum0/total)\n",
    "    #print(\"Prob of second door: \",sum1/total)\n",
    "    #print(\"Prob of third door: \",sum2/total)"
   ]
  },
  {
   "cell_type": "code",
   "execution_count": null,
   "metadata": {},
   "outputs": [],
   "source": [
    "def chance_to_win_if_switch(list):\n",
    "    sum0 = 0\n",
    "    sum1 = 0\n",
    "    sum2 = 0\n",
    "    for i in range(len(list)):\n",
    "        win = 0\n",
    "        for j in range(3):\n",
    "            if j== 0 and list[i][j]==\"X\":\n",
    "                sum0 += 1\n",
    "                win += 0\n",
    "                chosen_door =1\n",
    "            elif j==1 and list[i][j]==\"X\":\n",
    "                sum1 += 1\n",
    "                win += 1\n",
    "                chosen_door =2\n",
    "            elif j==2 and list[i][j]==\"X\": \n",
    "                sum2 += 1\n",
    "                win += 1\n",
    "                chosen_door =2\n",
    "        print(\"Game no. : \",i, \"Door no. : \",chosen_door)\n",
    "    total = sum0 + sum1 + sum2\n",
    "    print(\"Prob of winning if switch: \", (sum1+sum2)/total)"
   ]
  },
  {
   "cell_type": "code",
   "execution_count": null,
   "metadata": {},
   "outputs": [],
   "source": [
    "chance_to_win(doors)\n",
    "chance_to_win_if_stay(doors)\n",
    "chance_to_win_if_switch(doors)"
   ]
  },
  {
   "cell_type": "code",
   "execution_count": null,
   "metadata": {},
   "outputs": [],
   "source": [
    "#chance_to_win#\n",
    "#this is for door 10 :\n",
    "#Prob of first door:  0.6\n",
    "#Prob of second door:  0.1\n",
    "#Prob of third door:  0.3\n",
    "\n",
    "#this is for door2 1,000 :\n",
    "#Prob of first door:  0.35\n",
    "#Prob of second door:  0.334\n",
    "#Prob of third door:  0.316\n",
    "\n",
    "#this is for door3 10,000 :\n",
    "#Prob of first door:  0.3373\n",
    "#Prob of second door:  0.3342\n",
    "#Prob of third door:  0.3285\n",
    "\n",
    "#chance_to_win_if_stay#\n",
    "#this is for door 10 :\n",
    "#Prob of winning if stay:  0.6\n",
    "#this is for door2 1,000 :\n",
    "#Prob of winning if stay:  0.35\n",
    "#this is for door3 10,000 :\n",
    "#Prob of winning if stay:  0.3373\n",
    "\n",
    "#chance_to_win_if_swithc#\n",
    "#this is for door 10 :\n",
    "#Prob of winning if switch:  0.4\n",
    "#this is for door2 1,000 :\n",
    "#Prob of winning if switch:  0.65\n",
    "#this is for door3 10,000 :\n",
    "#Prob of winning if switch:  0.6627"
   ]
  }
 ],
 "metadata": {
  "kernelspec": {
   "display_name": "Python 3",
   "language": "python",
   "name": "python3"
  },
  "language_info": {
   "codemirror_mode": {
    "name": "ipython",
    "version": 3
   },
   "file_extension": ".py",
   "mimetype": "text/x-python",
   "name": "python",
   "nbconvert_exporter": "python",
   "pygments_lexer": "ipython3",
   "version": "3.6.5"
  }
 },
 "nbformat": 4,
 "nbformat_minor": 2
}
