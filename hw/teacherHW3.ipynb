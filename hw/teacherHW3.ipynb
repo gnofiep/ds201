{
 "cells": [
  {
   "cell_type": "code",
   "execution_count": null,
   "metadata": {},
   "outputs": [],
   "source": [
    "import pandas as pd\n",
    "import seaborn as sns\n",
    "import matplotlib.pyplot as plt\n",
    "%matplotlib inline\n",
    "df = pd.read_csv('USvideos.csv')"
   ]
  },
  {
   "cell_type": "code",
   "execution_count": null,
   "metadata": {},
   "outputs": [],
   "source": [
    "df.info()"
   ]
  },
  {
   "cell_type": "code",
   "execution_count": null,
   "metadata": {},
   "outputs": [],
   "source": [
    "df.channel_title = df.channel_title.dropna()\n",
    "df.info()"
   ]
  },
  {
   "cell_type": "code",
   "execution_count": null,
   "metadata": {},
   "outputs": [],
   "source": [
    "df.head(20)"
   ]
  },
  {
   "cell_type": "code",
   "execution_count": null,
   "metadata": {},
   "outputs": [],
   "source": [
    "#shows top 5 likes\n",
    "df.nlargest(5, 'likes')"
   ]
  },
  {
   "cell_type": "code",
   "execution_count": null,
   "metadata": {},
   "outputs": [],
   "source": [
    "df.sort_values(by=[\"video_id\",\"views\"], ascending=False)"
   ]
  },
  {
   "cell_type": "code",
   "execution_count": null,
   "metadata": {},
   "outputs": [],
   "source": [
    "df.info()"
   ]
  },
  {
   "cell_type": "code",
   "execution_count": null,
   "metadata": {},
   "outputs": [],
   "source": [
    "#df = df.drop_duplicates(\"video_id\")\n",
    "df = df.drop_duplicates(\"video_id\", keep=\"first\")"
   ]
  },
  {
   "cell_type": "code",
   "execution_count": null,
   "metadata": {},
   "outputs": [],
   "source": [
    "#after df.drop_duplicates(\"video_id\")\n",
    "#reduce number of records from 24,951 to 4,881\n",
    "df.info()"
   ]
  },
  {
   "cell_type": "code",
   "execution_count": null,
   "metadata": {},
   "outputs": [],
   "source": [
    "#shows top 5 likes\n",
    "df.nlargest(5, 'likes')\n",
    "\n",
    "\n",
    "#shows top 10 likes and views\n",
    "#df.nlargest(10, ['likes','views'])"
   ]
  },
  {
   "cell_type": "code",
   "execution_count": null,
   "metadata": {},
   "outputs": [],
   "source": [
    "sns.pairplot(df)\n",
    "#pairplot will display a scatter plot of  a combination values columns, not a categoical columns\n",
    "#This will work on your local jupyter notebook, but not on Kaggle Kernel"
   ]
  },
  {
   "cell_type": "code",
   "execution_count": null,
   "metadata": {},
   "outputs": [],
   "source": [
    "sns.pairplot(df[[\"category_id\",\"views\",\"likes\",\"dislikes\"]], hue=\"category_id\")"
   ]
  },
  {
   "cell_type": "code",
   "execution_count": null,
   "metadata": {},
   "outputs": [],
   "source": [
    "df[\"views\"].corr(df[\"likes\"])"
   ]
  },
  {
   "cell_type": "code",
   "execution_count": null,
   "metadata": {},
   "outputs": [],
   "source": [
    "#I suggest useing .corr to visualize the correlation matrix. \n",
    "#To visualize the correlation matrix between features, \n",
    "#you can create a \"Heat Map\" with seaborn. \n",
    "#Or use this convenient pandas styling options is a viable built-in solution:\n",
    "\n",
    "corr = df.corr()\n",
    "print(type(corr))\n",
    "corr.style.background_gradient()"
   ]
  },
  {
   "cell_type": "code",
   "execution_count": null,
   "metadata": {},
   "outputs": [],
   "source": [
    "#Index= ['aaa', 'bbb', 'ccc', 'ddd', 'eee']\n",
    "#Cols = df[[\"category_id\",\"views\",\"likes\",\"dislikes\"]]\n",
    "#df = DataFrame(, columns=Cols)\n",
    "\n",
    "#sns.heatmap(df, annot=True)\n",
    "#df.style.background_gradient(cmap='summer')"
   ]
  },
  {
   "cell_type": "code",
   "execution_count": null,
   "metadata": {},
   "outputs": [],
   "source": [
    "#select top 100 videos by top views \n",
    "df_top100views = df.nlargest(100, 'views')\n",
    "df_top100views"
   ]
  },
  {
   "cell_type": "code",
   "execution_count": null,
   "metadata": {},
   "outputs": [],
   "source": [
    "sns.pairplot(df_top100views[[\"category_id\",\"views\",\"likes\",\"dislikes\"]], hue=\"category_id\")"
   ]
  },
  {
   "cell_type": "code",
   "execution_count": null,
   "metadata": {},
   "outputs": [],
   "source": [
    "#merge in with the category_name from USvideo_categories.csv\n",
    "df_category =pd.read_csv(\"USvideo_categories.csv\", header=None, names=[\"category_id\",\"category_name\"])"
   ]
  },
  {
   "cell_type": "code",
   "execution_count": null,
   "metadata": {},
   "outputs": [],
   "source": [
    "df = df.merge(df_category,on=\"category_id\")"
   ]
  }
 ],
 "metadata": {
  "kernelspec": {
   "display_name": "Python 3",
   "language": "python",
   "name": "python3"
  },
  "language_info": {
   "codemirror_mode": {
    "name": "ipython",
    "version": 3
   },
   "file_extension": ".py",
   "mimetype": "text/x-python",
   "name": "python",
   "nbconvert_exporter": "python",
   "pygments_lexer": "ipython3",
   "version": "3.6.5"
  }
 },
 "nbformat": 4,
 "nbformat_minor": 2
}
